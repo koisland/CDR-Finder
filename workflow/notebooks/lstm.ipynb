{
 "cells": [
  {
   "cell_type": "code",
   "execution_count": 8,
   "metadata": {},
   "outputs": [],
   "source": [
    "import polars as pl\n",
    "import intervaltree"
   ]
  },
  {
   "cell_type": "code",
   "execution_count": 9,
   "metadata": {},
   "outputs": [
    {
     "data": {
      "text/html": [
       "<div><style>\n",
       ".dataframe > thead > tr,\n",
       ".dataframe > tbody > tr {\n",
       "  text-align: right;\n",
       "  white-space: pre-wrap;\n",
       "}\n",
       "</style>\n",
       "<small>shape: (42_383, 5)</small><table border=\"1\" class=\"dataframe\"><thead><tr><th>chrom</th><th>st</th><th>end</th><th>cov</th><th>avg_methyl</th></tr><tr><td>str</td><td>i64</td><td>i64</td><td>f64</td><td>f64</td></tr></thead><tbody><tr><td>&quot;haplotype1-000…</td><td>0</td><td>5000</td><td>72.58</td><td>19.77</td></tr><tr><td>&quot;haplotype1-000…</td><td>5000</td><td>10000</td><td>68.04</td><td>18.06</td></tr><tr><td>&quot;haplotype1-000…</td><td>10000</td><td>15000</td><td>81.43</td><td>19.76</td></tr><tr><td>&quot;haplotype1-000…</td><td>15000</td><td>20000</td><td>72.99</td><td>19.24</td></tr><tr><td>&quot;haplotype1-000…</td><td>20000</td><td>25000</td><td>81.96</td><td>17.9</td></tr><tr><td>&hellip;</td><td>&hellip;</td><td>&hellip;</td><td>&hellip;</td><td>&hellip;</td></tr><tr><td>&quot;haplotype2-000…</td><td>3905000</td><td>3910000</td><td>60.26</td><td>23.62</td></tr><tr><td>&quot;haplotype2-000…</td><td>3910000</td><td>3915000</td><td>56.71</td><td>22.72</td></tr><tr><td>&quot;haplotype2-000…</td><td>3915000</td><td>3920000</td><td>45.48</td><td>21.09</td></tr><tr><td>&quot;haplotype2-000…</td><td>3920000</td><td>3925000</td><td>36.17</td><td>25.73</td></tr><tr><td>&quot;haplotype2-000…</td><td>3925000</td><td>3930000</td><td>55.13</td><td>26.0</td></tr></tbody></table></div>"
      ],
      "text/plain": [
       "shape: (42_383, 5)\n",
       "┌────────────────────┬─────────┬─────────┬───────┬────────────┐\n",
       "│ chrom              ┆ st      ┆ end     ┆ cov   ┆ avg_methyl │\n",
       "│ ---                ┆ ---     ┆ ---     ┆ ---   ┆ ---        │\n",
       "│ str                ┆ i64     ┆ i64     ┆ f64   ┆ f64        │\n",
       "╞════════════════════╪═════════╪═════════╪═══════╪════════════╡\n",
       "│ haplotype1-0000001 ┆ 0       ┆ 5000    ┆ 72.58 ┆ 19.77      │\n",
       "│ haplotype1-0000001 ┆ 5000    ┆ 10000   ┆ 68.04 ┆ 18.06      │\n",
       "│ haplotype1-0000001 ┆ 10000   ┆ 15000   ┆ 81.43 ┆ 19.76      │\n",
       "│ haplotype1-0000001 ┆ 15000   ┆ 20000   ┆ 72.99 ┆ 19.24      │\n",
       "│ haplotype1-0000001 ┆ 20000   ┆ 25000   ┆ 81.96 ┆ 17.9       │\n",
       "│ …                  ┆ …       ┆ …       ┆ …     ┆ …          │\n",
       "│ haplotype2-0000068 ┆ 3905000 ┆ 3910000 ┆ 60.26 ┆ 23.62      │\n",
       "│ haplotype2-0000068 ┆ 3910000 ┆ 3915000 ┆ 56.71 ┆ 22.72      │\n",
       "│ haplotype2-0000068 ┆ 3915000 ┆ 3920000 ┆ 45.48 ┆ 21.09      │\n",
       "│ haplotype2-0000068 ┆ 3920000 ┆ 3925000 ┆ 36.17 ┆ 25.73      │\n",
       "│ haplotype2-0000068 ┆ 3925000 ┆ 3930000 ┆ 55.13 ┆ 26.0       │\n",
       "└────────────────────┴─────────┴─────────┴───────┴────────────┘"
      ]
     },
     "execution_count": 9,
     "metadata": {},
     "output_type": "execute_result"
    }
   ],
   "source": [
    "df_freq = pl.read_csv(\"HG00731_binned_freq.bed\", separator=\"\\t\", has_header=False, new_columns=[\"chrom\", \"st\", \"end\", \"cov\", \"avg_methyl\"])\n",
    "df_freq"
   ]
  },
  {
   "cell_type": "code",
   "execution_count": 10,
   "metadata": {},
   "outputs": [
    {
     "data": {
      "text/html": [
       "<div><style>\n",
       ".dataframe > thead > tr,\n",
       ".dataframe > tbody > tr {\n",
       "  text-align: right;\n",
       "  white-space: pre-wrap;\n",
       "}\n",
       "</style>\n",
       "<small>shape: (42_383, 7)</small><table border=\"1\" class=\"dataframe\"><thead><tr><th>chrom</th><th>st</th><th>end</th><th>cov</th><th>avg_methyl</th><th>mean_avg_methyl_chrom</th><th>std_avg_methyl_chrom</th></tr><tr><td>str</td><td>i64</td><td>i64</td><td>f64</td><td>f64</td><td>f64</td><td>f64</td></tr></thead><tbody><tr><td>&quot;haplotype1-000…</td><td>0</td><td>5000</td><td>72.58</td><td>19.77</td><td>25.647138</td><td>4.150232</td></tr><tr><td>&quot;haplotype1-000…</td><td>5000</td><td>10000</td><td>68.04</td><td>18.06</td><td>25.647138</td><td>4.150232</td></tr><tr><td>&quot;haplotype1-000…</td><td>10000</td><td>15000</td><td>81.43</td><td>19.76</td><td>25.647138</td><td>4.150232</td></tr><tr><td>&quot;haplotype1-000…</td><td>15000</td><td>20000</td><td>72.99</td><td>19.24</td><td>25.647138</td><td>4.150232</td></tr><tr><td>&quot;haplotype1-000…</td><td>20000</td><td>25000</td><td>81.96</td><td>17.9</td><td>25.647138</td><td>4.150232</td></tr><tr><td>&hellip;</td><td>&hellip;</td><td>&hellip;</td><td>&hellip;</td><td>&hellip;</td><td>&hellip;</td><td>&hellip;</td></tr><tr><td>&quot;haplotype2-000…</td><td>3905000</td><td>3910000</td><td>60.26</td><td>23.62</td><td>22.555369</td><td>inf</td></tr><tr><td>&quot;haplotype2-000…</td><td>3910000</td><td>3915000</td><td>56.71</td><td>22.72</td><td>22.555369</td><td>inf</td></tr><tr><td>&quot;haplotype2-000…</td><td>3915000</td><td>3920000</td><td>45.48</td><td>21.09</td><td>22.555369</td><td>inf</td></tr><tr><td>&quot;haplotype2-000…</td><td>3920000</td><td>3925000</td><td>36.17</td><td>25.73</td><td>22.555369</td><td>inf</td></tr><tr><td>&quot;haplotype2-000…</td><td>3925000</td><td>3930000</td><td>55.13</td><td>26.0</td><td>22.555369</td><td>inf</td></tr></tbody></table></div>"
      ],
      "text/plain": [
       "shape: (42_383, 7)\n",
       "┌───────────────────┬─────────┬─────────┬───────┬────────────┬──────────────────┬──────────────────┐\n",
       "│ chrom             ┆ st      ┆ end     ┆ cov   ┆ avg_methyl ┆ mean_avg_methyl_ ┆ std_avg_methyl_c │\n",
       "│ ---               ┆ ---     ┆ ---     ┆ ---   ┆ ---        ┆ chrom            ┆ hrom             │\n",
       "│ str               ┆ i64     ┆ i64     ┆ f64   ┆ f64        ┆ ---              ┆ ---              │\n",
       "│                   ┆         ┆         ┆       ┆            ┆ f64              ┆ f64              │\n",
       "╞═══════════════════╪═════════╪═════════╪═══════╪════════════╪══════════════════╪══════════════════╡\n",
       "│ haplotype1-000000 ┆ 0       ┆ 5000    ┆ 72.58 ┆ 19.77      ┆ 25.647138        ┆ 4.150232         │\n",
       "│ 1                 ┆         ┆         ┆       ┆            ┆                  ┆                  │\n",
       "│ haplotype1-000000 ┆ 5000    ┆ 10000   ┆ 68.04 ┆ 18.06      ┆ 25.647138        ┆ 4.150232         │\n",
       "│ 1                 ┆         ┆         ┆       ┆            ┆                  ┆                  │\n",
       "│ haplotype1-000000 ┆ 10000   ┆ 15000   ┆ 81.43 ┆ 19.76      ┆ 25.647138        ┆ 4.150232         │\n",
       "│ 1                 ┆         ┆         ┆       ┆            ┆                  ┆                  │\n",
       "│ haplotype1-000000 ┆ 15000   ┆ 20000   ┆ 72.99 ┆ 19.24      ┆ 25.647138        ┆ 4.150232         │\n",
       "│ 1                 ┆         ┆         ┆       ┆            ┆                  ┆                  │\n",
       "│ haplotype1-000000 ┆ 20000   ┆ 25000   ┆ 81.96 ┆ 17.9       ┆ 25.647138        ┆ 4.150232         │\n",
       "│ 1                 ┆         ┆         ┆       ┆            ┆                  ┆                  │\n",
       "│ …                 ┆ …       ┆ …       ┆ …     ┆ …          ┆ …                ┆ …                │\n",
       "│ haplotype2-000006 ┆ 3905000 ┆ 3910000 ┆ 60.26 ┆ 23.62      ┆ 22.555369        ┆ inf              │\n",
       "│ 8                 ┆         ┆         ┆       ┆            ┆                  ┆                  │\n",
       "│ haplotype2-000006 ┆ 3910000 ┆ 3915000 ┆ 56.71 ┆ 22.72      ┆ 22.555369        ┆ inf              │\n",
       "│ 8                 ┆         ┆         ┆       ┆            ┆                  ┆                  │\n",
       "│ haplotype2-000006 ┆ 3915000 ┆ 3920000 ┆ 45.48 ┆ 21.09      ┆ 22.555369        ┆ inf              │\n",
       "│ 8                 ┆         ┆         ┆       ┆            ┆                  ┆                  │\n",
       "│ haplotype2-000006 ┆ 3920000 ┆ 3925000 ┆ 36.17 ┆ 25.73      ┆ 22.555369        ┆ inf              │\n",
       "│ 8                 ┆         ┆         ┆       ┆            ┆                  ┆                  │\n",
       "│ haplotype2-000006 ┆ 3925000 ┆ 3930000 ┆ 55.13 ┆ 26.0       ┆ 22.555369        ┆ inf              │\n",
       "│ 8                 ┆         ┆         ┆       ┆            ┆                  ┆                  │\n",
       "└───────────────────┴─────────┴─────────┴───────┴────────────┴──────────────────┴──────────────────┘"
      ]
     },
     "execution_count": 10,
     "metadata": {},
     "output_type": "execute_result"
    }
   ],
   "source": [
    "df_freq_normalized = df_freq.with_columns(\n",
    "    mean_avg_methyl_chrom=pl.col(\"avg_methyl\").mean().over(\"chrom\"),\n",
    "    std_avg_methyl_chrom=pl.col(\"avg_methyl\").std().over(\"chrom\"),\n",
    ")\n",
    "df_freq_normalized"
   ]
  },
  {
   "cell_type": "code",
   "execution_count": null,
   "metadata": {},
   "outputs": [],
   "source": []
  }
 ],
 "metadata": {
  "kernelspec": {
   "display_name": "jupyter",
   "language": "python",
   "name": "python3"
  },
  "language_info": {
   "codemirror_mode": {
    "name": "ipython",
    "version": 3
   },
   "file_extension": ".py",
   "mimetype": "text/x-python",
   "name": "python",
   "nbconvert_exporter": "python",
   "pygments_lexer": "ipython3",
   "version": "3.12.2"
  }
 },
 "nbformat": 4,
 "nbformat_minor": 2
}
